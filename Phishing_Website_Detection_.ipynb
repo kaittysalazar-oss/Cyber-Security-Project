{
 "cells": [
  {
   "cell_type": "markdown",
   "id": "164e760d",
   "metadata": {},
   "source": [
    "\n",
    "#  Phishing Website Detection using Machine Learning\n",
    "\n",
    "This project aims to detect **phishing websites** using machine learning models.  \n",
    "The dataset contains various features extracted from URLs and website behaviors, which help distinguish **legitimate** sites from **phishing** ones.\n",
    "\n",
    "---\n",
    "\n",
    "##  Project Overview\n",
    "**Steps covered in this notebook:**\n",
    "1. Data loading and preprocessing  \n",
    "2. Feature exploration  \n",
    "3. Model training (Random Forest, K-Nearest Neighbors)  \n",
    "4. Model evaluation and performance metrics  \n",
    "5. Summary of findings\n",
    "\n"
   ]
  },
  {
   "cell_type": "code",
   "execution_count": null,
   "id": "1d3a95bc",
   "metadata": {},
   "outputs": [],
   "source": [
    "# Import necessary libraries\n",
    "import pandas as pd\n",
    "from sklearn.model_selection import train_test_split\n",
    "from sklearn.ensemble import RandomForestClassifier\n",
    "from sklearn.neighbors import KNeighborsClassifier\n",
    "from sklearn.metrics import classification_report, confusion_matrix, accuracy_score\n",
    "import seaborn as sns\n",
    "import matplotlib.pyplot as plt\n"
   ]
  },
  {
   "cell_type": "markdown",
   "id": "762e2adc",
   "metadata": {},
   "source": [
    "\n",
    "##  Load and Inspect Dataset\n",
    "We'll load the phishing dataset and perform a quick inspection to understand its structure.\n"
   ]
  },
  {
   "cell_type": "code",
   "execution_count": null,
   "id": "7bfa347a",
   "metadata": {},
   "outputs": [],
   "source": [
    "# Load dataset\n",
    "df = pd.read_csv(\"Phishing_dataset.csv\")\n",
    "\n",
    "# Display basic info\n",
    "print(\"Dataset shape:\", df.shape)\n",
    "df.head()\n"
   ]
  },
  {
   "cell_type": "markdown",
   "id": "51b5409b",
   "metadata": {},
   "source": [
    "\n",
    "##  Data Preprocessing\n",
    "We'll check for missing values, encode labels if necessary, and split the dataset into training and test sets.\n"
   ]
  },
  {
   "cell_type": "code",
   "execution_count": null,
   "id": "a26c8aa3",
   "metadata": {},
   "outputs": [],
   "source": [
    "# Check for missing values\n",
    "print(\"Missing values per column:\\n\", df.isnull().sum())\n",
    "\n",
    "# Assuming the target column is named 'Result' (1 = phishing, 0 = legitimate)\n",
    "X = df.drop('Result', axis=1)\n",
    "y = df['Result']\n",
    "\n",
    "# Split data into training and testing sets\n",
    "X_train, X_test, y_train, y_test = train_test_split(X, y, test_size=0.2, random_state=42)\n",
    "\n",
    "print(\"Training samples:\", X_train.shape[0])\n",
    "print(\"Testing samples:\", X_test.shape[0])\n"
   ]
  },
  {
   "cell_type": "markdown",
   "id": "1e54a9d5",
   "metadata": {},
   "source": [
    "\n",
    "##  Random Forest Classifier\n",
    "We'll start by training a Random Forest model and evaluating its accuracy.\n"
   ]
  },
  {
   "cell_type": "code",
   "execution_count": null,
   "id": "8736d1d9",
   "metadata": {},
   "outputs": [],
   "source": [
    "# Train Random Forest model\n",
    "rf_model = RandomForestClassifier(random_state=42)\n",
    "rf_model.fit(X_train, y_train)\n",
    "\n",
    "# Predictions\n",
    "y_pred_rf = rf_model.predict(X_test)\n",
    "\n",
    "# Evaluation\n",
    "print(\"Random Forest Accuracy:\", accuracy_score(y_test, y_pred_rf))\n",
    "print(\"\\nClassification Report:\\n\", classification_report(y_test, y_pred_rf))\n"
   ]
  },
  {
   "cell_type": "markdown",
   "id": "82a47b1c",
   "metadata": {},
   "source": [
    "\n",
    "##  K-Nearest Neighbors (KNN)\n",
    "We'll compare another model — KNN — to see how it performs on the same dataset.\n"
   ]
  },
  {
   "cell_type": "code",
   "execution_count": null,
   "id": "1a9a2fda",
   "metadata": {},
   "outputs": [],
   "source": [
    "# Train KNN model\n",
    "knn_model = KNeighborsClassifier(n_neighbors=5)\n",
    "knn_model.fit(X_train, y_train)\n",
    "\n",
    "# Predictions\n",
    "y_pred_knn = knn_model.predict(X_test)\n",
    "\n",
    "# Evaluation\n",
    "print(\"KNN Accuracy:\", accuracy_score(y_test, y_pred_knn))\n",
    "print(\"\\nClassification Report:\\n\", classification_report(y_test, y_pred_knn))\n"
   ]
  },
  {
   "cell_type": "markdown",
   "id": "0d7b4d13",
   "metadata": {},
   "source": [
    "\n",
    "##  Confusion Matrix Visualization\n",
    "Let's visualize model performance to better understand where misclassifications occur.\n"
   ]
  },
  {
   "cell_type": "code",
   "execution_count": null,
   "id": "c6899f26",
   "metadata": {},
   "outputs": [],
   "source": [
    "# Confusion matrix for Random Forest\n",
    "cm_rf = confusion_matrix(y_test, y_pred_rf)\n",
    "plt.figure(figsize=(6,4))\n",
    "sns.heatmap(cm_rf, annot=True, fmt='d', cmap='Blues')\n",
    "plt.title('Random Forest Confusion Matrix')\n",
    "plt.xlabel('Predicted')\n",
    "plt.ylabel('Actual')\n",
    "plt.show()\n"
   ]
  },
  {
   "cell_type": "code",
   "execution_count": null,
   "id": "96434ac0",
   "metadata": {},
   "outputs": [],
   "source": [
    "print(\"Random Forest Accuracy:\", accuracy_score(y_test, y_pred_rf))\n",
    "print(\"KNN Accuracy:\", accuracy_score(y_test, y_pred_knn))"
   ]
  },
  {
   "cell_type": "markdown",
   "id": "b746eabb",
   "metadata": {},
   "source": [
    "\n",
    "##  Summary of Results\n",
    "\n",
    "\n",
    "| Model | Data Handling | Threshold | Recall | Precision | False Positives | False Negatives | Notes |\n",
    "|--------|----------------|------------|----------|------------|------------------|------------------|--------|\n",
    "| Random Forest (Unbalanced) | None | 0.5 | ~85% | ~70% | — | 7,032 | High accuracy, poor recall on phishing URLs |\n",
    "| KNN + SMOTE (k=5) | SMOTE | 0.5 | ~89% | ~65% | 20,644 | 3,463 | Many false positives, tunable performance |\n",
    "| Balanced Random Forest | class_weight='balanced' | 0.5 | ~94% | ~63% | 8,673 | 1,066 | Stronger phishing detection after balancing |\n",
    "| **Balanced Random Forest (Tuned)** | class_weight='balanced' + threshold=0.4 | 0.4 | **96.6%** | **62.7%** | **11,556** | **677** | Best trade-off between recall and precision |\n",
    "\n",
    "---\n",
    "\n",
    "**Key Findings**\n",
    "- The **Balanced Random Forest (threshold = 0.4)** model achieved the best performance, with a **96.6 % recall**—crucial for cybersecurity tasks where missing a phishing attack (false negative) is riskier than a few false alarms.  \n",
    "- **KNN with SMOTE** provided tunable flexibility but generated many false positives at lower `k` values.  \n",
    "- **Threshold tuning** dramatically improved phishing recall while maintaining acceptable precision.\n",
    "\n",
    "---\n",
    "\n"
   ]
  }
 ],
 "metadata": {
  "language_info": {
   "name": "python"
  }
 },
 "nbformat": 4,
 "nbformat_minor": 5
}
